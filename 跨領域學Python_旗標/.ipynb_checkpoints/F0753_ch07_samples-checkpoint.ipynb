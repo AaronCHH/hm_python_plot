{
 "cells": [
  {
   "cell_type": "markdown",
   "metadata": {},
   "source": [
    "# F0753 範例程式 - 第 7 章 數值資料分析與其視覺化：使用 NumPy 及 matplotlib"
   ]
  },
  {
   "cell_type": "markdown",
   "metadata": {},
   "source": [
    "## 7-0 認識 NumPy 與 matplotlib\n",
    "\n",
    "歷史股價可至鉅亨網查詢, 例如台積電的歷史股價頁面為 https://invest.cnyes.com/twstock/TWS/2330/history"
   ]
  },
  {
   "cell_type": "code",
   "execution_count": 1,
   "metadata": {},
   "outputs": [
    {
     "data": {
      "image/png": "[encoded data removed]",
      "text/plain": [
       "<Figure size 432x288 with 1 Axes>"
      ]
     },
     "metadata": {
      "needs_background": "light"
     },
     "output_type": "display_data"
    }
   ],
   "source": [
    "import numpy as np\n",
    "import matplotlib.pyplot as plt\n",
    "\n",
    "stock = np.array([\n",
    "    271.5, 275.5, 283, 285, 283, 279.5, 278.5, 285, 287.5, 286.5, 306.5, 304,\n",
    "    295, 294, 295.5, 294, 298, 296.5, 299, 304.5\n",
    "])\n",
    "\n",
    "plt.plot(stock)\n",
    "plt.show()"
   ]
  },
  {
   "cell_type": "markdown",
   "metadata": {},
   "source": [
    "## 7-1 NumPy 的基礎：ndarray 陣列"
   ]
  },
  {
   "cell_type": "markdown",
   "metadata": {},
   "source": [
    "### *建立 ndarray*"
   ]
  },
  {
   "cell_type": "code",
   "execution_count": 2,
   "metadata": {},
   "outputs": [
    {
     "data": {
      "text/plain": [
       "array([100, 200, 300, 400, 500])"
      ]
     },
     "execution_count": 2,
     "metadata": {},
     "output_type": "execute_result"
    }
   ],
   "source": [
    "import numpy as np\n",
    "\n",
    "data = np.array([100, 200, 300, 400, 500])\n",
    "data"
   ]
  },
  {
   "cell_type": "code",
   "execution_count": 3,
   "metadata": {},
   "outputs": [
    {
     "name": "stdout",
     "output_type": "stream",
     "text": [
      "[100 200 300 400 500]\n",
      "300\n",
      "[100 200   0 400 500]\n"
     ]
    }
   ],
   "source": [
    "print(data)\n",
    "print(data[2])\n",
    "\n",
    "data[2] = 0\n",
    "print(data)"
   ]
  },
  {
   "cell_type": "markdown",
   "metadata": {},
   "source": [
    "### *其他建立 ndarray 的辦法*"
   ]
  },
  {
   "cell_type": "code",
   "execution_count": 4,
   "metadata": {},
   "outputs": [
    {
     "name": "stdout",
     "output_type": "stream",
     "text": [
      "[0 1 2 3 4 5 6 7 8 9]\n"
     ]
    }
   ],
   "source": [
    "import numpy as np\n",
    "\n",
    "sequence = np.arange(10)\n",
    "print(sequence)"
   ]
  },
  {
   "cell_type": "code",
   "execution_count": 5,
   "metadata": {},
   "outputs": [
    {
     "name": "stdout",
     "output_type": "stream",
     "text": [
      "[7 1 1 7 5 2 9 8 5 7 2 6 3 6 1 4 4 2 9 8]\n"
     ]
    }
   ],
   "source": [
    "rand = np.random.randint(0, 10, 20)\n",
    "print(rand)"
   ]
  },
  {
   "cell_type": "markdown",
   "metadata": {},
   "source": [
    "## 7-2 ndarray 陣列的運算及統計"
   ]
  },
  {
   "cell_type": "markdown",
   "metadata": {},
   "source": [
    "### *ndarray 可直接對所有元素做運算*"
   ]
  },
  {
   "cell_type": "code",
   "execution_count": 6,
   "metadata": {},
   "outputs": [
    {
     "name": "stdout",
     "output_type": "stream",
     "text": [
      "[2 3 4 5 6]\n",
      "[ 4  6  8 10 12]\n"
     ]
    }
   ],
   "source": [
    "import numpy as np\n",
    "\n",
    "data = np.array([1, 2, 3, 4, 5])\n",
    "\n",
    "data = data + 1\n",
    "print(data)\n",
    "\n",
    "data = data * 2\n",
    "print(data)"
   ]
  },
  {
   "cell_type": "markdown",
   "metadata": {},
   "source": [
    "### *取得 ndarray 的統計量數*"
   ]
  },
  {
   "cell_type": "code",
   "execution_count": 7,
   "metadata": {},
   "outputs": [
    {
     "name": "stdout",
     "output_type": "stream",
     "text": [
      "20\n",
      "5802.0\n",
      "271.5\n",
      "306.5\n",
      "35.0\n"
     ]
    }
   ],
   "source": [
    "import numpy as np\n",
    "\n",
    "stock = np.array([\n",
    "    271.5, 275.5, 283, 285, 283, 279.5, 278.5, 285, 287.5, 286.5, 306.5, 304,\n",
    "    295, 294, 295.5, 294, 298, 296.5, 299, 304.5\n",
    "])\n",
    "\n",
    "print(stock.size)\n",
    "print(stock.sum())\n",
    "print(stock.min())\n",
    "print(stock.max())\n",
    "print(stock.ptp())"
   ]
  },
  {
   "cell_type": "markdown",
   "metadata": {},
   "source": [
    "### *平均數、變異數與標準差*"
   ]
  },
  {
   "cell_type": "code",
   "execution_count": 8,
   "metadata": {},
   "outputs": [
    {
     "name": "stdout",
     "output_type": "stream",
     "text": [
      "290.1\n",
      "95.71499999999999\n",
      "9.783404315472197\n"
     ]
    }
   ],
   "source": [
    "# 沿用前一小節的 stock\n",
    "\n",
    "print(stock.mean())\n",
    "print(stock.var())\n",
    "print(stock.std())"
   ]
  },
  {
   "cell_type": "markdown",
   "metadata": {},
   "source": [
    "### *中位數、四分位數和 K 百分位數*"
   ]
  },
  {
   "cell_type": "code",
   "execution_count": 9,
   "metadata": {},
   "outputs": [
    {
     "name": "stdout",
     "output_type": "stream",
     "text": [
      "290.75\n",
      "283.0\n",
      "290.75\n",
      "296.875\n",
      "13.875\n"
     ]
    }
   ],
   "source": [
    "# 沿用前一小節的 stock\n",
    "\n",
    "print(np.median(stock))\n",
    "print(np.percentile(stock, 25))\n",
    "print(np.percentile(stock, 50))\n",
    "print(np.percentile(stock, 75))\n",
    "print(np.percentile(stock, 75) - np.percentile(stock, 25))"
   ]
  },
  {
   "cell_type": "markdown",
   "metadata": {},
   "source": [
    "## 7-3 將 ndarray 畫成折線圖：使用 matplotlib"
   ]
  },
  {
   "cell_type": "markdown",
   "metadata": {},
   "source": [
    "### *繪製圖表*"
   ]
  },
  {
   "cell_type": "code",
   "execution_count": 11,
   "metadata": {},
   "outputs": [
    {
     "data": {
      "image/png": "[encoded data removed]",
      "text/plain": [
       "<Figure size 432x288 with 1 Axes>"
      ]
     },
     "metadata": {
      "needs_background": "light"
     },
     "output_type": "display_data"
    }
   ],
   "source": [
    "import numpy as np\n",
    "import matplotlib.pyplot as plt\n",
    "\n",
    "data = np.array([100, 220, 300, 340, 500])\n",
    "\n",
    "plt.plot(data) # 將資料繪成折線圖\n",
    "plt.show()"
   ]
  },
  {
   "cell_type": "markdown",
   "metadata": {},
   "source": [
    "### *繪製兩條以上的折線圖*"
   ]
  },
  {
   "cell_type": "code",
   "execution_count": 12,
   "metadata": {},
   "outputs": [
    {
     "data": {
      "image/png": "[encoded data removed]",
      "text/plain": [
       "<Figure size 432x288 with 1 Axes>"
      ]
     },
     "metadata": {
      "needs_background": "light"
     },
     "output_type": "display_data"
    }
   ],
   "source": [
    "import numpy as np\n",
    "import matplotlib.pyplot as plt\n",
    "\n",
    "stock = np.array([271.5, 275.5, 283, 285, 283,\n",
    "                  279.5, 278.5, 285, 287.5, 286.5,\n",
    "                  306.5, 304, 295, 294, 295.5,\n",
    "                  294, 298, 296.5, 299, 304.5])\n",
    "\n",
    "stock2 = np.array([311.0, 317.5, 320.5, 323.0, 315.0,\n",
    "                   305.5, 307.0, 302.0, 294.0, 290.0,\n",
    "                   276.5, 268.0, 260.0, 248.0, 270.0,\n",
    "                   255.0, 267.5, 277.0, 280.0, 273.0,\n",
    "                   267.5, 274.0])\n",
    "\n",
    "plt.plot(stock)\n",
    "plt.plot(stock2)\n",
    "plt.show()"
   ]
  },
  {
   "cell_type": "markdown",
   "metadata": {},
   "source": [
    "### *將資料畫成並列的分離圖表*"
   ]
  },
  {
   "cell_type": "code",
   "execution_count": 13,
   "metadata": {},
   "outputs": [
    {
     "data": {
      "image/png": "[encoded data removed]",
      "text/plain": [
       "<Figure size 432x288 with 2 Axes>"
      ]
     },
     "metadata": {
      "needs_background": "light"
     },
     "output_type": "display_data"
    }
   ],
   "source": [
    "# 沿用前一小節的套件和 stock\n",
    "\n",
    "plt.subplot(211)\n",
    "plt.plot(stock)\n",
    "\n",
    "plt.subplot(212)\n",
    "plt.plot(stock2)\n",
    "\n",
    "plt.show()"
   ]
  },
  {
   "cell_type": "code",
   "execution_count": 14,
   "metadata": {},
   "outputs": [
    {
     "data": {
      "image/png": "[encoded data removed]",
      "text/plain": [
       "<Figure size 432x288 with 3 Axes>"
      ]
     },
     "metadata": {
      "needs_background": "light"
     },
     "output_type": "display_data"
    }
   ],
   "source": [
    "plt.subplot(221)\n",
    "plt.plot([1, 2, 3, 4, 5])\n",
    "\n",
    "plt.subplot(222)\n",
    "plt.plot([5, 4, 3, 2, 1])\n",
    "\n",
    "plt.subplot(223)\n",
    "plt.plot([1, 2, 4, 7, 11])\n",
    "\n",
    "plt.show()"
   ]
  },
  {
   "cell_type": "markdown",
   "metadata": {},
   "source": [
    "## 7-4 直方圖與箱型圖：比較資料的偏度及離散程度"
   ]
  },
  {
   "cell_type": "markdown",
   "metadata": {},
   "source": [
    "### *直方圖 (histogram)*"
   ]
  },
  {
   "cell_type": "code",
   "execution_count": 15,
   "metadata": {},
   "outputs": [
    {
     "data": {
      "image/png": "[encoded data removed]",
      "text/plain": [
       "<Figure size 432x288 with 1 Axes>"
      ]
     },
     "metadata": {
      "needs_background": "light"
     },
     "output_type": "display_data"
    }
   ],
   "source": [
    "import numpy as np\n",
    "import matplotlib.pyplot as plt\n",
    "\n",
    "stock = np.array([271.5, 275.5, 283, 285, 283,\n",
    "                  279.5, 278.5, 285, 287.5, 286.5,\n",
    "                  306.5, 304, 295, 294, 295.5,\n",
    "                  294, 298, 296.5, 299, 304.5])\n",
    "\n",
    "stock2 = np.array([311.0, 317.5, 320.5, 323.0, 315.0,\n",
    "                   305.5, 307.0, 302.0, 294.0, 290.0,\n",
    "                   276.5, 268.0, 260.0, 248.0, 270.0,\n",
    "                   255.0, 267.5, 277.0, 280.0, 273.0,\n",
    "                   267.5, 274.0])\n",
    "\n",
    "plt.hist(stock)\n",
    "plt.show()"
   ]
  },
  {
   "cell_type": "code",
   "execution_count": 16,
   "metadata": {},
   "outputs": [
    {
     "data": {
      "image/png": "[encoded data removed]",
      "text/plain": [
       "<Figure size 432x288 with 1 Axes>"
      ]
     },
     "metadata": {
      "needs_background": "light"
     },
     "output_type": "display_data"
    }
   ],
   "source": [
    "plt.hist([stock, stock2])\n",
    "plt.show()"
   ]
  },
  {
   "cell_type": "code",
   "execution_count": 17,
   "metadata": {},
   "outputs": [
    {
     "data": {
      "image/png": "[encoded data removed]",
      "text/plain": [
       "<Figure size 432x288 with 1 Axes>"
      ]
     },
     "metadata": {
      "needs_background": "light"
     },
     "output_type": "display_data"
    }
   ],
   "source": [
    "plt.hist([stock, stock2], bins=20)\n",
    "plt.show()"
   ]
  },
  {
   "cell_type": "markdown",
   "metadata": {},
   "source": [
    "### *箱型圖 (box plot)*"
   ]
  },
  {
   "cell_type": "code",
   "execution_count": 18,
   "metadata": {},
   "outputs": [
    {
     "data": {
      "image/png": "[encoded data removed]",
      "text/plain": [
       "<Figure size 432x288 with 1 Axes>"
      ]
     },
     "metadata": {
      "needs_background": "light"
     },
     "output_type": "display_data"
    }
   ],
   "source": [
    "# 沿用前一小節的套件和 stock/stock2\n",
    "\n",
    "plt.boxplot([stock, stock2])\n",
    "plt.show()"
   ]
  },
  {
   "cell_type": "code",
   "execution_count": null,
   "metadata": {},
   "outputs": [],
   "source": []
  }
 ],
 "metadata": {
  "kernelspec": {
   "display_name": "Python 3 (ipykernel)",
   "language": "python",
   "name": "python3"
  },
  "language_info": {
   "codemirror_mode": {
    "name": "ipython",
    "version": 3
   },
   "file_extension": ".py",
   "mimetype": "text/x-python",
   "name": "python",
   "nbconvert_exporter": "python",
   "pygments_lexer": "ipython3",
   "version": "3.8.13"
  },
  "toc": {
   "base_numbering": 1,
   "nav_menu": {},
   "number_sections": true,
   "sideBar": true,
   "skip_h1_title": false,
   "title_cell": "Table of Contents",
   "title_sidebar": "Contents",
   "toc_cell": false,
   "toc_position": {},
   "toc_section_display": true,
   "toc_window_display": false
  },
  "varInspector": {
   "cols": {
    "lenName": 16,
    "lenType": 16,
    "lenVar": 40
   },
   "kernels_config": {
    "python": {
     "delete_cmd_postfix": "",
     "delete_cmd_prefix": "del ",
     "library": "var_list.py",
     "varRefreshCmd": "print(var_dic_list())"
    },
    "r": {
     "delete_cmd_postfix": ") ",
     "delete_cmd_prefix": "rm(",
     "library": "var_list.r",
     "varRefreshCmd": "cat(var_dic_list()) "
    }
   },
   "types_to_exclude": [
    "module",
    "function",
    "builtin_function_or_method",
    "instance",
    "_Feature"
   ],
   "window_display": false
  }
 },
 "nbformat": 4,
 "nbformat_minor": 4
}
