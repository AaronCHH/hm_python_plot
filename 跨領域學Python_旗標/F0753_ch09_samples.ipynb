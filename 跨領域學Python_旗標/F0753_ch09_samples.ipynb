{
 "cells": [
  {
   "cell_type": "markdown",
   "metadata": {},
   "source": [
    "# F0753 範例程式 - 第 9 章 報表處理及視覺化：使用 pandas 及 seaborn"
   ]
  },
  {
   "cell_type": "markdown",
   "metadata": {},
   "source": [
    "## 9-0 使用 pandas 匯入並分析資料"
   ]
  },
  {
   "cell_type": "code",
   "execution_count": null,
   "metadata": {},
   "outputs": [],
   "source": [
    "from sklearn import datasets\n",
    "\n",
    "datasets.load_iris().data"
   ]
  },
  {
   "cell_type": "markdown",
   "metadata": {},
   "source": [
    "### *將資料集載入 DataFrame 物件*"
   ]
  },
  {
   "cell_type": "code",
   "execution_count": null,
   "metadata": {},
   "outputs": [],
   "source": [
    "from sklearn import datasets\n",
    "import pandas as pd\n",
    "\n",
    "df = pd.DataFrame(datasets.load_iris().data)\n",
    "print(df)"
   ]
  },
  {
   "cell_type": "markdown",
   "metadata": {},
   "source": [
    "## 9-1 DataFrame 物件的行列選取及統計量數"
   ]
  },
  {
   "cell_type": "markdown",
   "metadata": {},
   "source": [
    "### *重新命名行 (欄位) 名稱*"
   ]
  },
  {
   "cell_type": "code",
   "execution_count": null,
   "metadata": {},
   "outputs": [],
   "source": [
    "from sklearn import datasets\n",
    "import pandas as pd\n",
    "\n",
    "col_names = ['Sepal width', 'Sepal length', 'Petal width', 'Petal length']\n",
    "\n",
    "df = pd.DataFrame(datasets.load_iris().data, columns=col_names)\n",
    "print(df)"
   ]
  },
  {
   "cell_type": "markdown",
   "metadata": {},
   "source": [
    "### *計算資料集的統計量數*"
   ]
  },
  {
   "cell_type": "code",
   "execution_count": null,
   "metadata": {},
   "outputs": [],
   "source": [
    "# 沿用上一小節的 df\n",
    "\n",
    "print(df.describe())"
   ]
  },
  {
   "cell_type": "markdown",
   "metadata": {},
   "source": [
    "### *取出特定行的資料*"
   ]
  },
  {
   "cell_type": "code",
   "execution_count": null,
   "metadata": {},
   "outputs": [],
   "source": [
    "# 沿用上一小節的 df\n",
    "\n",
    "print(df['Sepal width'])"
   ]
  },
  {
   "cell_type": "code",
   "execution_count": null,
   "metadata": {},
   "outputs": [],
   "source": [
    "df_col = df['Sepal width']\n",
    "\n",
    "print(df_col.describe())"
   ]
  },
  {
   "cell_type": "code",
   "execution_count": null,
   "metadata": {},
   "outputs": [],
   "source": [
    "print(df_col.count())\n",
    "print(df_col.sum())\n",
    "print(df_col.mean())\n",
    "print(df_col.var())\n",
    "print(df_col.std())\n",
    "print(df_col.min())\n",
    "print(df_col.quantile(0.25))\n",
    "print(df_col.median())\n",
    "print(df_col.quantile(0.75))\n",
    "print(df_col.max())"
   ]
  },
  {
   "cell_type": "markdown",
   "metadata": {},
   "source": [
    "### *取出特定列的資料*"
   ]
  },
  {
   "cell_type": "code",
   "execution_count": null,
   "metadata": {},
   "outputs": [],
   "source": [
    "# 沿用上一小節的 df\n",
    "\n",
    "print(df.loc[0])"
   ]
  },
  {
   "cell_type": "markdown",
   "metadata": {},
   "source": [
    "### *把行或列轉為 ndarray*"
   ]
  },
  {
   "cell_type": "code",
   "execution_count": null,
   "metadata": {},
   "outputs": [],
   "source": [
    "# 沿用上一小節的 df\n",
    "\n",
    "print(df['Sepal width'].to_numpy())\n",
    "print(df.loc[0].to_numpy())"
   ]
  },
  {
   "cell_type": "markdown",
   "metadata": {},
   "source": [
    "## 9-2 以 seaborn 將報表資料視覺化"
   ]
  },
  {
   "cell_type": "markdown",
   "metadata": {},
   "source": [
    "### *pair plot：一張圖畫出所有欄位的關係*"
   ]
  },
  {
   "cell_type": "code",
   "execution_count": null,
   "metadata": {},
   "outputs": [],
   "source": [
    "from sklearn import datasets\n",
    "import pandas as pd\n",
    "import matplotlib.pyplot as plt\n",
    "import seaborn as sns\n",
    "\n",
    "column_names = ['Sepal width', 'Sepal length', 'Petal width', 'Petal length']\n",
    "df = pd.DataFrame(datasets.load_iris().data, columns=column_names)\n",
    "\n",
    "sns.pairplot(df)\n",
    "plt.show()"
   ]
  },
  {
   "cell_type": "markdown",
   "metadata": {},
   "source": [
    "### *在 pair plot 只顯示特定欄位*"
   ]
  },
  {
   "cell_type": "code",
   "execution_count": null,
   "metadata": {},
   "outputs": [],
   "source": [
    "# 沿用上一小節的 df\n",
    "\n",
    "df_cols = df[['Sepal width', 'Petal width']]\n",
    "sns.pairplot(df_cols)\n",
    "plt.show()"
   ]
  },
  {
   "cell_type": "code",
   "execution_count": null,
   "metadata": {},
   "outputs": [],
   "source": [
    "df_cols = df[['Sepal width', 'Petal width']]\n",
    "sns.pairplot(df_cols, kind='reg')\n",
    "plt.show()"
   ]
  },
  {
   "cell_type": "markdown",
   "metadata": {},
   "source": [
    "### *調整 pair plot 大小及字體的方法*"
   ]
  },
  {
   "cell_type": "code",
   "execution_count": null,
   "metadata": {},
   "outputs": [],
   "source": [
    "# 沿用上一小節的 df\n",
    "\n",
    "sns.set(font_scale=1.5)\n",
    "sns.pairplot(df, height=4)\n",
    "plt.show()"
   ]
  },
  {
   "cell_type": "markdown",
   "metadata": {},
   "source": [
    "### *印出相關係數矩陣*"
   ]
  },
  {
   "cell_type": "code",
   "execution_count": null,
   "metadata": {},
   "outputs": [],
   "source": [
    "# 沿用上一小節的 df\n",
    "\n",
    "print(df.corr())"
   ]
  },
  {
   "cell_type": "markdown",
   "metadata": {},
   "source": [
    "### *用熱圖 (heat map) 做視覺化*"
   ]
  },
  {
   "cell_type": "code",
   "execution_count": null,
   "metadata": {},
   "outputs": [],
   "source": [
    "# 沿用上一小節的 df\n",
    "\n",
    "sns.heatmap(df.corr(), annot=True, vmin=-1, vmax=1)\n",
    "plt.show()"
   ]
  },
  {
   "cell_type": "code",
   "execution_count": null,
   "metadata": {},
   "outputs": [],
   "source": [
    "cols = ['Sepal width', 'Sepal length']\n",
    "sns.heatmap(df[cols].corr(), annot=True, vmin=-1, vmax=1)\n",
    "plt.show()"
   ]
  },
  {
   "cell_type": "markdown",
   "metadata": {},
   "source": [
    "### *調整熱圖大小*"
   ]
  },
  {
   "cell_type": "code",
   "execution_count": null,
   "metadata": {},
   "outputs": [],
   "source": [
    "# 沿用上一小節的 df\n",
    "\n",
    "sns.set(font_scale=1.5)\n",
    "plt.figure(figsize=(6, 6))\n",
    "sns.heatmap(df.corr(), annot=True)\n",
    "plt.show()"
   ]
  },
  {
   "cell_type": "markdown",
   "metadata": {},
   "source": [
    "### *箱型圖*"
   ]
  },
  {
   "cell_type": "code",
   "execution_count": null,
   "metadata": {},
   "outputs": [],
   "source": [
    "# 沿用上一小節的 df\n",
    "\n",
    "sns.boxplot(data=df)\n",
    "plt.show()"
   ]
  },
  {
   "cell_type": "markdown",
   "metadata": {},
   "source": [
    "### *(bonus) 調整箱型圖大小*"
   ]
  },
  {
   "cell_type": "code",
   "execution_count": null,
   "metadata": {},
   "outputs": [],
   "source": [
    "# 沿用上一小節的 df\n",
    "\n",
    "sns.set(font_scale=1.5)\n",
    "plt.figure(figsize=(12, 12))\n",
    "sns.boxplot(data=df)\n",
    "plt.show()"
   ]
  },
  {
   "cell_type": "markdown",
   "metadata": {},
   "source": [
    "## 9-3 讀取空汙資訊的 CSV 格式報表\n",
    "\n",
    "請至以下位置下載 CSV：\n",
    "\n",
    "* https://scidm.nchc.org.tw/dataset/4ba06157-3854-4111-9383-3b8a188c962a (點選 AQI.csv 旁 \"探索\" -> \"下載\")\n",
    "* https://data.gov.tw/dataset/40448 (點選 \"CSV\")"
   ]
  },
  {
   "cell_type": "code",
   "execution_count": 3,
   "metadata": {},
   "outputs": [
    {
     "data": {
      "text/html": [
       "<div>\n",
       "<style scoped>\n",
       "    .dataframe tbody tr th:only-of-type {\n",
       "        vertical-align: middle;\n",
       "    }\n",
       "\n",
       "    .dataframe tbody tr th {\n",
       "        vertical-align: top;\n",
       "    }\n",
       "\n",
       "    .dataframe thead th {\n",
       "        text-align: right;\n",
       "    }\n",
       "</style>\n",
       "<table border=\"1\" class=\"dataframe\">\n",
       "  <thead>\n",
       "    <tr style=\"text-align: right;\">\n",
       "      <th></th>\n",
       "      <th>sitename</th>\n",
       "      <th>county</th>\n",
       "      <th>aqi</th>\n",
       "      <th>pollutant</th>\n",
       "      <th>status</th>\n",
       "      <th>so2</th>\n",
       "      <th>co</th>\n",
       "      <th>o3</th>\n",
       "      <th>o3_8hr</th>\n",
       "      <th>pm10</th>\n",
       "      <th>...</th>\n",
       "      <th>wind_speed</th>\n",
       "      <th>wind_direc</th>\n",
       "      <th>publishtime</th>\n",
       "      <th>co_8hr</th>\n",
       "      <th>pm2.5_avg</th>\n",
       "      <th>pm10_avg</th>\n",
       "      <th>so2_avg</th>\n",
       "      <th>longitude</th>\n",
       "      <th>latitude</th>\n",
       "      <th>siteid</th>\n",
       "    </tr>\n",
       "  </thead>\n",
       "  <tbody>\n",
       "    <tr>\n",
       "      <th>0</th>\n",
       "      <td>基隆</td>\n",
       "      <td>基隆市</td>\n",
       "      <td>32.0</td>\n",
       "      <td>NaN</td>\n",
       "      <td>良好</td>\n",
       "      <td>1.2</td>\n",
       "      <td>0.27</td>\n",
       "      <td>32.7</td>\n",
       "      <td>29.8</td>\n",
       "      <td>17.0</td>\n",
       "      <td>...</td>\n",
       "      <td>0.5</td>\n",
       "      <td>31</td>\n",
       "      <td>2022/11/30 01:00:00</td>\n",
       "      <td>0.3</td>\n",
       "      <td>9.0</td>\n",
       "      <td>25.0</td>\n",
       "      <td>1.0</td>\n",
       "      <td>121.760056</td>\n",
       "      <td>25.129167</td>\n",
       "      <td>1</td>\n",
       "    </tr>\n",
       "    <tr>\n",
       "      <th>1</th>\n",
       "      <td>汐止</td>\n",
       "      <td>新北市</td>\n",
       "      <td>38.0</td>\n",
       "      <td>NaN</td>\n",
       "      <td>良好</td>\n",
       "      <td>0.4</td>\n",
       "      <td>0.25</td>\n",
       "      <td>29.7</td>\n",
       "      <td>31.2</td>\n",
       "      <td>10.0</td>\n",
       "      <td>...</td>\n",
       "      <td>2.3</td>\n",
       "      <td>48</td>\n",
       "      <td>2022/11/30 01:00:00</td>\n",
       "      <td>0.3</td>\n",
       "      <td>11.0</td>\n",
       "      <td>20.0</td>\n",
       "      <td>1.0</td>\n",
       "      <td>121.642300</td>\n",
       "      <td>25.067131</td>\n",
       "      <td>2</td>\n",
       "    </tr>\n",
       "    <tr>\n",
       "      <th>2</th>\n",
       "      <td>萬里</td>\n",
       "      <td>新北市</td>\n",
       "      <td>36.0</td>\n",
       "      <td>NaN</td>\n",
       "      <td>良好</td>\n",
       "      <td>0.8</td>\n",
       "      <td>0.27</td>\n",
       "      <td>38.3</td>\n",
       "      <td>38.4</td>\n",
       "      <td>40.0</td>\n",
       "      <td>...</td>\n",
       "      <td>5.3</td>\n",
       "      <td>24</td>\n",
       "      <td>2022/11/30 01:00:00</td>\n",
       "      <td>0.3</td>\n",
       "      <td>11.0</td>\n",
       "      <td>29.0</td>\n",
       "      <td>1.0</td>\n",
       "      <td>121.689881</td>\n",
       "      <td>25.179667</td>\n",
       "      <td>3</td>\n",
       "    </tr>\n",
       "    <tr>\n",
       "      <th>3</th>\n",
       "      <td>新店</td>\n",
       "      <td>新北市</td>\n",
       "      <td>35.0</td>\n",
       "      <td>NaN</td>\n",
       "      <td>良好</td>\n",
       "      <td>0.8</td>\n",
       "      <td>0.28</td>\n",
       "      <td>26.7</td>\n",
       "      <td>31.4</td>\n",
       "      <td>11.0</td>\n",
       "      <td>...</td>\n",
       "      <td>2.3</td>\n",
       "      <td>67</td>\n",
       "      <td>2022/11/30 01:00:00</td>\n",
       "      <td>0.4</td>\n",
       "      <td>10.0</td>\n",
       "      <td>19.0</td>\n",
       "      <td>0.0</td>\n",
       "      <td>121.537778</td>\n",
       "      <td>24.977222</td>\n",
       "      <td>4</td>\n",
       "    </tr>\n",
       "    <tr>\n",
       "      <th>4</th>\n",
       "      <td>土城</td>\n",
       "      <td>新北市</td>\n",
       "      <td>38.0</td>\n",
       "      <td>NaN</td>\n",
       "      <td>良好</td>\n",
       "      <td>0.4</td>\n",
       "      <td>0.30</td>\n",
       "      <td>26.7</td>\n",
       "      <td>17.1</td>\n",
       "      <td>16.0</td>\n",
       "      <td>...</td>\n",
       "      <td>1.6</td>\n",
       "      <td>60</td>\n",
       "      <td>2022/11/30 01:00:00</td>\n",
       "      <td>0.5</td>\n",
       "      <td>11.0</td>\n",
       "      <td>25.0</td>\n",
       "      <td>1.0</td>\n",
       "      <td>121.451861</td>\n",
       "      <td>24.982528</td>\n",
       "      <td>5</td>\n",
       "    </tr>\n",
       "  </tbody>\n",
       "</table>\n",
       "<p>5 rows × 24 columns</p>\n",
       "</div>"
      ],
      "text/plain": [
       "  sitename county   aqi pollutant status  so2    co    o3  o3_8hr  pm10  ...  \\\n",
       "0       基隆    基隆市  32.0       NaN     良好  1.2  0.27  32.7    29.8  17.0  ...   \n",
       "1       汐止    新北市  38.0       NaN     良好  0.4  0.25  29.7    31.2  10.0  ...   \n",
       "2       萬里    新北市  36.0       NaN     良好  0.8  0.27  38.3    38.4  40.0  ...   \n",
       "3       新店    新北市  35.0       NaN     良好  0.8  0.28  26.7    31.4  11.0  ...   \n",
       "4       土城    新北市  38.0       NaN     良好  0.4  0.30  26.7    17.1  16.0  ...   \n",
       "\n",
       "   wind_speed  wind_direc          publishtime  co_8hr pm2.5_avg pm10_avg  \\\n",
       "0         0.5          31  2022/11/30 01:00:00     0.3       9.0     25.0   \n",
       "1         2.3          48  2022/11/30 01:00:00     0.3      11.0     20.0   \n",
       "2         5.3          24  2022/11/30 01:00:00     0.3      11.0     29.0   \n",
       "3         2.3          67  2022/11/30 01:00:00     0.4      10.0     19.0   \n",
       "4         1.6          60  2022/11/30 01:00:00     0.5      11.0     25.0   \n",
       "\n",
       "  so2_avg   longitude   latitude  siteid  \n",
       "0     1.0  121.760056  25.129167       1  \n",
       "1     1.0  121.642300  25.067131       2  \n",
       "2     1.0  121.689881  25.179667       3  \n",
       "3     0.0  121.537778  24.977222       4  \n",
       "4     1.0  121.451861  24.982528       5  \n",
       "\n",
       "[5 rows x 24 columns]"
      ]
     },
     "execution_count": 3,
     "metadata": {},
     "output_type": "execute_result"
    }
   ],
   "source": [
    "import pandas as pd\n",
    "\n",
    "df = pd.read_csv(r'data\\aqi.csv')\n",
    "df.head()"
   ]
  },
  {
   "cell_type": "code",
   "execution_count": 4,
   "metadata": {},
   "outputs": [
    {
     "data": {
      "text/plain": [
       "Index(['sitename', 'county', 'aqi', 'pollutant', 'status', 'so2', 'co', 'o3',\n",
       "       'o3_8hr', 'pm10', 'pm2.5', 'no2', 'nox', 'no', 'wind_speed',\n",
       "       'wind_direc', 'publishtime', 'co_8hr', 'pm2.5_avg', 'pm10_avg',\n",
       "       'so2_avg', 'longitude', 'latitude', 'siteid'],\n",
       "      dtype='object')"
      ]
     },
     "execution_count": 4,
     "metadata": {},
     "output_type": "execute_result"
    }
   ],
   "source": [
    "df.columns"
   ]
  },
  {
   "cell_type": "markdown",
   "metadata": {},
   "source": [
    "### *在載入報表時就篩選欄位*"
   ]
  },
  {
   "cell_type": "code",
   "execution_count": 5,
   "metadata": {},
   "outputs": [
    {
     "data": {
      "text/html": [
       "<div>\n",
       "<style scoped>\n",
       "    .dataframe tbody tr th:only-of-type {\n",
       "        vertical-align: middle;\n",
       "    }\n",
       "\n",
       "    .dataframe tbody tr th {\n",
       "        vertical-align: top;\n",
       "    }\n",
       "\n",
       "    .dataframe thead th {\n",
       "        text-align: right;\n",
       "    }\n",
       "</style>\n",
       "<table border=\"1\" class=\"dataframe\">\n",
       "  <thead>\n",
       "    <tr style=\"text-align: right;\">\n",
       "      <th></th>\n",
       "      <th>aqi</th>\n",
       "      <th>co</th>\n",
       "      <th>o3</th>\n",
       "      <th>pm10</th>\n",
       "      <th>pm2.5</th>\n",
       "      <th>no2</th>\n",
       "      <th>no</th>\n",
       "    </tr>\n",
       "  </thead>\n",
       "  <tbody>\n",
       "    <tr>\n",
       "      <th>0</th>\n",
       "      <td>32.0</td>\n",
       "      <td>0.27</td>\n",
       "      <td>32.7</td>\n",
       "      <td>17.0</td>\n",
       "      <td>5.0</td>\n",
       "      <td>3.0</td>\n",
       "      <td>0.5</td>\n",
       "    </tr>\n",
       "    <tr>\n",
       "      <th>1</th>\n",
       "      <td>38.0</td>\n",
       "      <td>0.25</td>\n",
       "      <td>29.7</td>\n",
       "      <td>10.0</td>\n",
       "      <td>3.0</td>\n",
       "      <td>3.7</td>\n",
       "      <td>0.5</td>\n",
       "    </tr>\n",
       "    <tr>\n",
       "      <th>2</th>\n",
       "      <td>36.0</td>\n",
       "      <td>0.27</td>\n",
       "      <td>38.3</td>\n",
       "      <td>40.0</td>\n",
       "      <td>7.0</td>\n",
       "      <td>1.5</td>\n",
       "      <td>0.8</td>\n",
       "    </tr>\n",
       "    <tr>\n",
       "      <th>3</th>\n",
       "      <td>35.0</td>\n",
       "      <td>0.28</td>\n",
       "      <td>26.7</td>\n",
       "      <td>11.0</td>\n",
       "      <td>12.0</td>\n",
       "      <td>5.6</td>\n",
       "      <td>0.7</td>\n",
       "    </tr>\n",
       "    <tr>\n",
       "      <th>4</th>\n",
       "      <td>38.0</td>\n",
       "      <td>0.30</td>\n",
       "      <td>26.7</td>\n",
       "      <td>16.0</td>\n",
       "      <td>7.0</td>\n",
       "      <td>5.2</td>\n",
       "      <td>0.4</td>\n",
       "    </tr>\n",
       "    <tr>\n",
       "      <th>...</th>\n",
       "      <td>...</td>\n",
       "      <td>...</td>\n",
       "      <td>...</td>\n",
       "      <td>...</td>\n",
       "      <td>...</td>\n",
       "      <td>...</td>\n",
       "      <td>...</td>\n",
       "    </tr>\n",
       "    <tr>\n",
       "      <th>81</th>\n",
       "      <td>35.0</td>\n",
       "      <td>0.28</td>\n",
       "      <td>3.2</td>\n",
       "      <td>31.0</td>\n",
       "      <td>14.0</td>\n",
       "      <td>14.8</td>\n",
       "      <td>0.5</td>\n",
       "    </tr>\n",
       "    <tr>\n",
       "      <th>82</th>\n",
       "      <td>28.0</td>\n",
       "      <td>0.26</td>\n",
       "      <td>31.5</td>\n",
       "      <td>24.0</td>\n",
       "      <td>5.0</td>\n",
       "      <td>2.1</td>\n",
       "      <td>0.0</td>\n",
       "    </tr>\n",
       "    <tr>\n",
       "      <th>83</th>\n",
       "      <td>NaN</td>\n",
       "      <td>NaN</td>\n",
       "      <td>NaN</td>\n",
       "      <td>NaN</td>\n",
       "      <td>NaN</td>\n",
       "      <td>NaN</td>\n",
       "      <td>NaN</td>\n",
       "    </tr>\n",
       "    <tr>\n",
       "      <th>84</th>\n",
       "      <td>53.0</td>\n",
       "      <td>0.23</td>\n",
       "      <td>23.3</td>\n",
       "      <td>40.0</td>\n",
       "      <td>17.0</td>\n",
       "      <td>6.1</td>\n",
       "      <td>1.0</td>\n",
       "    </tr>\n",
       "    <tr>\n",
       "      <th>85</th>\n",
       "      <td>18.0</td>\n",
       "      <td>0.07</td>\n",
       "      <td>19.0</td>\n",
       "      <td>4.0</td>\n",
       "      <td>0.0</td>\n",
       "      <td>0.9</td>\n",
       "      <td>0.3</td>\n",
       "    </tr>\n",
       "  </tbody>\n",
       "</table>\n",
       "<p>86 rows × 7 columns</p>\n",
       "</div>"
      ],
      "text/plain": [
       "     aqi    co    o3  pm10  pm2.5   no2   no\n",
       "0   32.0  0.27  32.7  17.0    5.0   3.0  0.5\n",
       "1   38.0  0.25  29.7  10.0    3.0   3.7  0.5\n",
       "2   36.0  0.27  38.3  40.0    7.0   1.5  0.8\n",
       "3   35.0  0.28  26.7  11.0   12.0   5.6  0.7\n",
       "4   38.0  0.30  26.7  16.0    7.0   5.2  0.4\n",
       "..   ...   ...   ...   ...    ...   ...  ...\n",
       "81  35.0  0.28   3.2  31.0   14.0  14.8  0.5\n",
       "82  28.0  0.26  31.5  24.0    5.0   2.1  0.0\n",
       "83   NaN   NaN   NaN   NaN    NaN   NaN  NaN\n",
       "84  53.0  0.23  23.3  40.0   17.0   6.1  1.0\n",
       "85  18.0  0.07  19.0   4.0    0.0   0.9  0.3\n",
       "\n",
       "[86 rows x 7 columns]"
      ]
     },
     "execution_count": 5,
     "metadata": {},
     "output_type": "execute_result"
    }
   ],
   "source": [
    "# df = pd.read_csv(r'C:\\Users\\使用者名稱\\Downloads\\aqi.csv',\n",
    "#                  usecols=['AQI', 'CO', 'O3', 'PM10', 'PM2.5', 'NO2', 'NO'])\n",
    "df = pd.read_csv(r'data\\aqi.csv',\n",
    "                 usecols=['aqi', 'co', 'o3', 'pm10', 'pm2.5', 'no2', 'no'])\n",
    "df"
   ]
  },
  {
   "cell_type": "markdown",
   "metadata": {},
   "source": [
    "### *將某欄位指定為索引*"
   ]
  },
  {
   "cell_type": "code",
   "execution_count": 7,
   "metadata": {},
   "outputs": [
    {
     "data": {
      "text/html": [
       "<div>\n",
       "<style scoped>\n",
       "    .dataframe tbody tr th:only-of-type {\n",
       "        vertical-align: middle;\n",
       "    }\n",
       "\n",
       "    .dataframe tbody tr th {\n",
       "        vertical-align: top;\n",
       "    }\n",
       "\n",
       "    .dataframe thead th {\n",
       "        text-align: right;\n",
       "    }\n",
       "</style>\n",
       "<table border=\"1\" class=\"dataframe\">\n",
       "  <thead>\n",
       "    <tr style=\"text-align: right;\">\n",
       "      <th></th>\n",
       "      <th>aqi</th>\n",
       "      <th>co</th>\n",
       "      <th>o3</th>\n",
       "      <th>pm10</th>\n",
       "      <th>pm2.5</th>\n",
       "      <th>no2</th>\n",
       "      <th>no</th>\n",
       "    </tr>\n",
       "    <tr>\n",
       "      <th>sitename</th>\n",
       "      <th></th>\n",
       "      <th></th>\n",
       "      <th></th>\n",
       "      <th></th>\n",
       "      <th></th>\n",
       "      <th></th>\n",
       "      <th></th>\n",
       "    </tr>\n",
       "  </thead>\n",
       "  <tbody>\n",
       "    <tr>\n",
       "      <th>基隆</th>\n",
       "      <td>32.0</td>\n",
       "      <td>0.27</td>\n",
       "      <td>32.7</td>\n",
       "      <td>17.0</td>\n",
       "      <td>5.0</td>\n",
       "      <td>3.0</td>\n",
       "      <td>0.5</td>\n",
       "    </tr>\n",
       "    <tr>\n",
       "      <th>汐止</th>\n",
       "      <td>38.0</td>\n",
       "      <td>0.25</td>\n",
       "      <td>29.7</td>\n",
       "      <td>10.0</td>\n",
       "      <td>3.0</td>\n",
       "      <td>3.7</td>\n",
       "      <td>0.5</td>\n",
       "    </tr>\n",
       "    <tr>\n",
       "      <th>萬里</th>\n",
       "      <td>36.0</td>\n",
       "      <td>0.27</td>\n",
       "      <td>38.3</td>\n",
       "      <td>40.0</td>\n",
       "      <td>7.0</td>\n",
       "      <td>1.5</td>\n",
       "      <td>0.8</td>\n",
       "    </tr>\n",
       "    <tr>\n",
       "      <th>新店</th>\n",
       "      <td>35.0</td>\n",
       "      <td>0.28</td>\n",
       "      <td>26.7</td>\n",
       "      <td>11.0</td>\n",
       "      <td>12.0</td>\n",
       "      <td>5.6</td>\n",
       "      <td>0.7</td>\n",
       "    </tr>\n",
       "    <tr>\n",
       "      <th>土城</th>\n",
       "      <td>38.0</td>\n",
       "      <td>0.30</td>\n",
       "      <td>26.7</td>\n",
       "      <td>16.0</td>\n",
       "      <td>7.0</td>\n",
       "      <td>5.2</td>\n",
       "      <td>0.4</td>\n",
       "    </tr>\n",
       "    <tr>\n",
       "      <th>...</th>\n",
       "      <td>...</td>\n",
       "      <td>...</td>\n",
       "      <td>...</td>\n",
       "      <td>...</td>\n",
       "      <td>...</td>\n",
       "      <td>...</td>\n",
       "      <td>...</td>\n",
       "    </tr>\n",
       "    <tr>\n",
       "      <th>屏東(琉球)</th>\n",
       "      <td>35.0</td>\n",
       "      <td>0.28</td>\n",
       "      <td>3.2</td>\n",
       "      <td>31.0</td>\n",
       "      <td>14.0</td>\n",
       "      <td>14.8</td>\n",
       "      <td>0.5</td>\n",
       "    </tr>\n",
       "    <tr>\n",
       "      <th>宜蘭(壯圍)</th>\n",
       "      <td>28.0</td>\n",
       "      <td>0.26</td>\n",
       "      <td>31.5</td>\n",
       "      <td>24.0</td>\n",
       "      <td>5.0</td>\n",
       "      <td>2.1</td>\n",
       "      <td>0.0</td>\n",
       "    </tr>\n",
       "    <tr>\n",
       "      <th>新北(樹林)</th>\n",
       "      <td>NaN</td>\n",
       "      <td>NaN</td>\n",
       "      <td>NaN</td>\n",
       "      <td>NaN</td>\n",
       "      <td>NaN</td>\n",
       "      <td>NaN</td>\n",
       "      <td>NaN</td>\n",
       "    </tr>\n",
       "    <tr>\n",
       "      <th>臺南(學甲)</th>\n",
       "      <td>53.0</td>\n",
       "      <td>0.23</td>\n",
       "      <td>23.3</td>\n",
       "      <td>40.0</td>\n",
       "      <td>17.0</td>\n",
       "      <td>6.1</td>\n",
       "      <td>1.0</td>\n",
       "    </tr>\n",
       "    <tr>\n",
       "      <th>屏東(枋山)</th>\n",
       "      <td>18.0</td>\n",
       "      <td>0.07</td>\n",
       "      <td>19.0</td>\n",
       "      <td>4.0</td>\n",
       "      <td>0.0</td>\n",
       "      <td>0.9</td>\n",
       "      <td>0.3</td>\n",
       "    </tr>\n",
       "  </tbody>\n",
       "</table>\n",
       "<p>86 rows × 7 columns</p>\n",
       "</div>"
      ],
      "text/plain": [
       "           aqi    co    o3  pm10  pm2.5   no2   no\n",
       "sitename                                          \n",
       "基隆        32.0  0.27  32.7  17.0    5.0   3.0  0.5\n",
       "汐止        38.0  0.25  29.7  10.0    3.0   3.7  0.5\n",
       "萬里        36.0  0.27  38.3  40.0    7.0   1.5  0.8\n",
       "新店        35.0  0.28  26.7  11.0   12.0   5.6  0.7\n",
       "土城        38.0  0.30  26.7  16.0    7.0   5.2  0.4\n",
       "...        ...   ...   ...   ...    ...   ...  ...\n",
       "屏東(琉球)    35.0  0.28   3.2  31.0   14.0  14.8  0.5\n",
       "宜蘭(壯圍)    28.0  0.26  31.5  24.0    5.0   2.1  0.0\n",
       "新北(樹林)     NaN   NaN   NaN   NaN    NaN   NaN  NaN\n",
       "臺南(學甲)    53.0  0.23  23.3  40.0   17.0   6.1  1.0\n",
       "屏東(枋山)    18.0  0.07  19.0   4.0    0.0   0.9  0.3\n",
       "\n",
       "[86 rows x 7 columns]"
      ]
     },
     "execution_count": 7,
     "metadata": {},
     "output_type": "execute_result"
    }
   ],
   "source": [
    "df = pd.read_csv(\n",
    "    r'data\\aqi.csv',\n",
    "    usecols=['sitename', 'aqi', 'co', 'o3', 'pm10', 'pm2.5', 'no2', 'no'],\n",
    "    index_col='sitename')\n",
    "df"
   ]
  },
  {
   "cell_type": "markdown",
   "metadata": {},
   "source": [
    "### *整理非數值的資料*"
   ]
  },
  {
   "cell_type": "code",
   "execution_count": 9,
   "metadata": {},
   "outputs": [
    {
     "data": {
      "text/html": [
       "<div>\n",
       "<style scoped>\n",
       "    .dataframe tbody tr th:only-of-type {\n",
       "        vertical-align: middle;\n",
       "    }\n",
       "\n",
       "    .dataframe tbody tr th {\n",
       "        vertical-align: top;\n",
       "    }\n",
       "\n",
       "    .dataframe thead th {\n",
       "        text-align: right;\n",
       "    }\n",
       "</style>\n",
       "<table border=\"1\" class=\"dataframe\">\n",
       "  <thead>\n",
       "    <tr style=\"text-align: right;\">\n",
       "      <th></th>\n",
       "      <th>aqi</th>\n",
       "      <th>co</th>\n",
       "      <th>o3</th>\n",
       "      <th>pm10</th>\n",
       "      <th>pm2.5</th>\n",
       "      <th>no2</th>\n",
       "      <th>no</th>\n",
       "    </tr>\n",
       "    <tr>\n",
       "      <th>sitename</th>\n",
       "      <th></th>\n",
       "      <th></th>\n",
       "      <th></th>\n",
       "      <th></th>\n",
       "      <th></th>\n",
       "      <th></th>\n",
       "      <th></th>\n",
       "    </tr>\n",
       "  </thead>\n",
       "  <tbody>\n",
       "    <tr>\n",
       "      <th>基隆</th>\n",
       "      <td>32.0</td>\n",
       "      <td>0.27</td>\n",
       "      <td>32.7</td>\n",
       "      <td>17.0</td>\n",
       "      <td>5.0</td>\n",
       "      <td>3.0</td>\n",
       "      <td>0.5</td>\n",
       "    </tr>\n",
       "    <tr>\n",
       "      <th>汐止</th>\n",
       "      <td>38.0</td>\n",
       "      <td>0.25</td>\n",
       "      <td>29.7</td>\n",
       "      <td>10.0</td>\n",
       "      <td>3.0</td>\n",
       "      <td>3.7</td>\n",
       "      <td>0.5</td>\n",
       "    </tr>\n",
       "    <tr>\n",
       "      <th>萬里</th>\n",
       "      <td>36.0</td>\n",
       "      <td>0.27</td>\n",
       "      <td>38.3</td>\n",
       "      <td>40.0</td>\n",
       "      <td>7.0</td>\n",
       "      <td>1.5</td>\n",
       "      <td>0.8</td>\n",
       "    </tr>\n",
       "    <tr>\n",
       "      <th>新店</th>\n",
       "      <td>35.0</td>\n",
       "      <td>0.28</td>\n",
       "      <td>26.7</td>\n",
       "      <td>11.0</td>\n",
       "      <td>12.0</td>\n",
       "      <td>5.6</td>\n",
       "      <td>0.7</td>\n",
       "    </tr>\n",
       "    <tr>\n",
       "      <th>土城</th>\n",
       "      <td>38.0</td>\n",
       "      <td>0.30</td>\n",
       "      <td>26.7</td>\n",
       "      <td>16.0</td>\n",
       "      <td>7.0</td>\n",
       "      <td>5.2</td>\n",
       "      <td>0.4</td>\n",
       "    </tr>\n",
       "    <tr>\n",
       "      <th>...</th>\n",
       "      <td>...</td>\n",
       "      <td>...</td>\n",
       "      <td>...</td>\n",
       "      <td>...</td>\n",
       "      <td>...</td>\n",
       "      <td>...</td>\n",
       "      <td>...</td>\n",
       "    </tr>\n",
       "    <tr>\n",
       "      <th>屏東(琉球)</th>\n",
       "      <td>35.0</td>\n",
       "      <td>0.28</td>\n",
       "      <td>3.2</td>\n",
       "      <td>31.0</td>\n",
       "      <td>14.0</td>\n",
       "      <td>14.8</td>\n",
       "      <td>0.5</td>\n",
       "    </tr>\n",
       "    <tr>\n",
       "      <th>宜蘭(壯圍)</th>\n",
       "      <td>28.0</td>\n",
       "      <td>0.26</td>\n",
       "      <td>31.5</td>\n",
       "      <td>24.0</td>\n",
       "      <td>5.0</td>\n",
       "      <td>2.1</td>\n",
       "      <td>0.0</td>\n",
       "    </tr>\n",
       "    <tr>\n",
       "      <th>新北(樹林)</th>\n",
       "      <td>NaN</td>\n",
       "      <td>NaN</td>\n",
       "      <td>NaN</td>\n",
       "      <td>NaN</td>\n",
       "      <td>NaN</td>\n",
       "      <td>NaN</td>\n",
       "      <td>NaN</td>\n",
       "    </tr>\n",
       "    <tr>\n",
       "      <th>臺南(學甲)</th>\n",
       "      <td>53.0</td>\n",
       "      <td>0.23</td>\n",
       "      <td>23.3</td>\n",
       "      <td>40.0</td>\n",
       "      <td>17.0</td>\n",
       "      <td>6.1</td>\n",
       "      <td>1.0</td>\n",
       "    </tr>\n",
       "    <tr>\n",
       "      <th>屏東(枋山)</th>\n",
       "      <td>18.0</td>\n",
       "      <td>0.07</td>\n",
       "      <td>19.0</td>\n",
       "      <td>4.0</td>\n",
       "      <td>0.0</td>\n",
       "      <td>0.9</td>\n",
       "      <td>0.3</td>\n",
       "    </tr>\n",
       "  </tbody>\n",
       "</table>\n",
       "<p>86 rows × 7 columns</p>\n",
       "</div>"
      ],
      "text/plain": [
       "           aqi    co    o3  pm10  pm2.5   no2   no\n",
       "sitename                                          \n",
       "基隆        32.0  0.27  32.7  17.0    5.0   3.0  0.5\n",
       "汐止        38.0  0.25  29.7  10.0    3.0   3.7  0.5\n",
       "萬里        36.0  0.27  38.3  40.0    7.0   1.5  0.8\n",
       "新店        35.0  0.28  26.7  11.0   12.0   5.6  0.7\n",
       "土城        38.0  0.30  26.7  16.0    7.0   5.2  0.4\n",
       "...        ...   ...   ...   ...    ...   ...  ...\n",
       "屏東(琉球)    35.0  0.28   3.2  31.0   14.0  14.8  0.5\n",
       "宜蘭(壯圍)    28.0  0.26  31.5  24.0    5.0   2.1  0.0\n",
       "新北(樹林)     NaN   NaN   NaN   NaN    NaN   NaN  NaN\n",
       "臺南(學甲)    53.0  0.23  23.3  40.0   17.0   6.1  1.0\n",
       "屏東(枋山)    18.0  0.07  19.0   4.0    0.0   0.9  0.3\n",
       "\n",
       "[86 rows x 7 columns]"
      ]
     },
     "execution_count": 9,
     "metadata": {},
     "output_type": "execute_result"
    }
   ],
   "source": [
    "# 沿用上一小節的 df\n",
    "\n",
    "df = df.apply(pd.to_numeric, errors='coerce')\n",
    "df"
   ]
  },
  {
   "cell_type": "markdown",
   "metadata": {},
   "source": [
    "### *從整理好的資料產生統計結果與圖表*"
   ]
  },
  {
   "cell_type": "code",
   "execution_count": 10,
   "metadata": {},
   "outputs": [
    {
     "data": {
      "text/html": [
       "<div>\n",
       "<style scoped>\n",
       "    .dataframe tbody tr th:only-of-type {\n",
       "        vertical-align: middle;\n",
       "    }\n",
       "\n",
       "    .dataframe tbody tr th {\n",
       "        vertical-align: top;\n",
       "    }\n",
       "\n",
       "    .dataframe thead th {\n",
       "        text-align: right;\n",
       "    }\n",
       "</style>\n",
       "<table border=\"1\" class=\"dataframe\">\n",
       "  <thead>\n",
       "    <tr style=\"text-align: right;\">\n",
       "      <th></th>\n",
       "      <th>aqi</th>\n",
       "      <th>co</th>\n",
       "      <th>o3</th>\n",
       "      <th>pm10</th>\n",
       "      <th>pm2.5</th>\n",
       "      <th>no2</th>\n",
       "      <th>no</th>\n",
       "    </tr>\n",
       "  </thead>\n",
       "  <tbody>\n",
       "    <tr>\n",
       "      <th>count</th>\n",
       "      <td>85.000000</td>\n",
       "      <td>85.000000</td>\n",
       "      <td>85.000000</td>\n",
       "      <td>85.000000</td>\n",
       "      <td>85.000000</td>\n",
       "      <td>85.000000</td>\n",
       "      <td>85.000000</td>\n",
       "    </tr>\n",
       "    <tr>\n",
       "      <th>mean</th>\n",
       "      <td>39.411765</td>\n",
       "      <td>0.256824</td>\n",
       "      <td>19.321176</td>\n",
       "      <td>25.388235</td>\n",
       "      <td>11.176471</td>\n",
       "      <td>9.372941</td>\n",
       "      <td>0.983529</td>\n",
       "    </tr>\n",
       "    <tr>\n",
       "      <th>std</th>\n",
       "      <td>14.100231</td>\n",
       "      <td>0.076457</td>\n",
       "      <td>9.099988</td>\n",
       "      <td>14.022171</td>\n",
       "      <td>7.653472</td>\n",
       "      <td>5.330804</td>\n",
       "      <td>1.900805</td>\n",
       "    </tr>\n",
       "    <tr>\n",
       "      <th>min</th>\n",
       "      <td>11.000000</td>\n",
       "      <td>0.070000</td>\n",
       "      <td>3.200000</td>\n",
       "      <td>3.000000</td>\n",
       "      <td>0.000000</td>\n",
       "      <td>0.500000</td>\n",
       "      <td>0.000000</td>\n",
       "    </tr>\n",
       "    <tr>\n",
       "      <th>25%</th>\n",
       "      <td>32.000000</td>\n",
       "      <td>0.230000</td>\n",
       "      <td>11.800000</td>\n",
       "      <td>13.000000</td>\n",
       "      <td>5.000000</td>\n",
       "      <td>5.100000</td>\n",
       "      <td>0.500000</td>\n",
       "    </tr>\n",
       "    <tr>\n",
       "      <th>50%</th>\n",
       "      <td>37.000000</td>\n",
       "      <td>0.260000</td>\n",
       "      <td>19.200000</td>\n",
       "      <td>25.000000</td>\n",
       "      <td>9.000000</td>\n",
       "      <td>9.900000</td>\n",
       "      <td>0.700000</td>\n",
       "    </tr>\n",
       "    <tr>\n",
       "      <th>75%</th>\n",
       "      <td>44.000000</td>\n",
       "      <td>0.280000</td>\n",
       "      <td>26.600000</td>\n",
       "      <td>33.000000</td>\n",
       "      <td>17.000000</td>\n",
       "      <td>12.800000</td>\n",
       "      <td>1.000000</td>\n",
       "    </tr>\n",
       "    <tr>\n",
       "      <th>max</th>\n",
       "      <td>84.000000</td>\n",
       "      <td>0.560000</td>\n",
       "      <td>43.500000</td>\n",
       "      <td>73.000000</td>\n",
       "      <td>38.000000</td>\n",
       "      <td>24.000000</td>\n",
       "      <td>17.800000</td>\n",
       "    </tr>\n",
       "  </tbody>\n",
       "</table>\n",
       "</div>"
      ],
      "text/plain": [
       "             aqi         co         o3       pm10      pm2.5        no2  \\\n",
       "count  85.000000  85.000000  85.000000  85.000000  85.000000  85.000000   \n",
       "mean   39.411765   0.256824  19.321176  25.388235  11.176471   9.372941   \n",
       "std    14.100231   0.076457   9.099988  14.022171   7.653472   5.330804   \n",
       "min    11.000000   0.070000   3.200000   3.000000   0.000000   0.500000   \n",
       "25%    32.000000   0.230000  11.800000  13.000000   5.000000   5.100000   \n",
       "50%    37.000000   0.260000  19.200000  25.000000   9.000000   9.900000   \n",
       "75%    44.000000   0.280000  26.600000  33.000000  17.000000  12.800000   \n",
       "max    84.000000   0.560000  43.500000  73.000000  38.000000  24.000000   \n",
       "\n",
       "              no  \n",
       "count  85.000000  \n",
       "mean    0.983529  \n",
       "std     1.900805  \n",
       "min     0.000000  \n",
       "25%     0.500000  \n",
       "50%     0.700000  \n",
       "75%     1.000000  \n",
       "max    17.800000  "
      ]
     },
     "execution_count": 10,
     "metadata": {},
     "output_type": "execute_result"
    }
   ],
   "source": [
    "# 沿用上一小節的 df\n",
    "\n",
    "df.describe()"
   ]
  },
  {
   "cell_type": "code",
   "execution_count": 13,
   "metadata": {},
   "outputs": [
    {
     "data": {
      "text/plain": [
       "<AxesSubplot:>"
      ]
     },
     "execution_count": 13,
     "metadata": {},
     "output_type": "execute_result"
    },
    {
     "data": {
      "image/png": "[encoded data removed]",
      "text/plain": [
       "<Figure size 432x288 with 2 Axes>"
      ]
     },
     "metadata": {},
     "output_type": "display_data"
    }
   ],
   "source": [
    "import seaborn as sns\n",
    "sns.set(font_scale=1.0)  # 如果執行過前面的圖表範例, 此行會重設字體比例\n",
    "\n",
    "sns.heatmap(df.corr(), annot=True)\n",
    "# plt.show()"
   ]
  },
  {
   "cell_type": "code",
   "execution_count": null,
   "metadata": {},
   "outputs": [],
   "source": []
  }
 ],
 "metadata": {
  "kernelspec": {
   "display_name": "Python 3 (ipykernel)",
   "language": "python",
   "name": "python3"
  },
  "language_info": {
   "codemirror_mode": {
    "name": "ipython",
    "version": 3
   },
   "file_extension": ".py",
   "mimetype": "text/x-python",
   "name": "python",
   "nbconvert_exporter": "python",
   "pygments_lexer": "ipython3",
   "version": "3.8.13"
  },
  "toc": {
   "base_numbering": 1,
   "nav_menu": {},
   "number_sections": true,
   "sideBar": true,
   "skip_h1_title": false,
   "title_cell": "Table of Contents",
   "title_sidebar": "Contents",
   "toc_cell": false,
   "toc_position": {},
   "toc_section_display": true,
   "toc_window_display": false
  },
  "varInspector": {
   "cols": {
    "lenName": 16,
    "lenType": 16,
    "lenVar": 40
   },
   "kernels_config": {
    "python": {
     "delete_cmd_postfix": "",
     "delete_cmd_prefix": "del ",
     "library": "var_list.py",
     "varRefreshCmd": "print(var_dic_list())"
    },
    "r": {
     "delete_cmd_postfix": ") ",
     "delete_cmd_prefix": "rm(",
     "library": "var_list.r",
     "varRefreshCmd": "cat(var_dic_list()) "
    }
   },
   "types_to_exclude": [
    "module",
    "function",
    "builtin_function_or_method",
    "instance",
    "_Feature"
   ],
   "window_display": false
  }
 },
 "nbformat": 4,
 "nbformat_minor": 4
}
